{
 "cells": [
  {
   "cell_type": "code",
   "execution_count": null,
   "id": "030d542a",
   "metadata": {},
   "outputs": [],
   "source": [
    "import numpy as np\n",
    "from PIL import ImageFont, ImageDraw, Image\n",
    "import cv2\n",
    "import time\n",
    "\n",
    "## Make canvas and set the color\n",
    "img = np.zeros((200,400,3),np.uint8)\n",
    "b,g,r,a = 0,255,0,0\n",
    "\n",
    "## Use Samyak Malayalam.ttf to write malayalam.\n",
    "fontpath = \"./Samyak Malayalam.ttf\"     \n",
    "font = ImageFont.truetype(fontpath,encoding='utf-8')\n",
    "img_pil = Image.fromarray(img)\n",
    "draw = ImageDraw.Draw(img_pil)\n",
    "draw.text((60,100),  \"മ\", font = font, fill = (b, g, r, a))\n",
    "img = np.array(img_pil)\n",
    "\n",
    "## Display \n",
    "cv2.imshow(\"res\", img);cv2.waitKey();cv2.destroyAllWindows()\n",
    "cv2.imwrite(\"res.png\", img)"
   ]
  },
  {
   "cell_type": "code",
   "execution_count": 11,
   "id": "8399d3a5",
   "metadata": {},
   "outputs": [],
   "source": [
    "import numpy as np\n",
    "from PIL import ImageFont, ImageDraw, Image\n",
    "import cv2\n",
    "import time\n",
    "\n",
    "b,g,r,a = 0,0,255,0\n",
    "text_size = 24\n",
    "fontpath = \"./Samyak Malayalam.ttf\"     \n",
    "font = ImageFont.truetype(fontpath,size=text_size,encoding='utf-8')\n",
    "\n",
    "# define a video capture object\n",
    "vid = cv2.VideoCapture(0)\n",
    "  \n",
    "while(True):\n",
    "      \n",
    "    # Capture the video frame\n",
    "    # by frame\n",
    "    ret, frame = vid.read()\n",
    "    img_pil = Image.fromarray(frame)\n",
    "    draw = ImageDraw.Draw(img_pil)\n",
    "    draw.text((200,10), \"മ\",font = font,fill = (b, g, r, a))\n",
    "    frame = np.array(img_pil)\n",
    "\n",
    "  \n",
    "    # Display the resulting frame\n",
    "    cv2.imshow('frame', frame)\n",
    "      \n",
    "    # the 'q' button is set as the\n",
    "    # quitting button you may use any\n",
    "    # desired button of your choice\n",
    "    if cv2.waitKey(1) & 0xFF == ord('q'):\n",
    "        break\n",
    "  \n",
    "# After the loop release the cap object\n",
    "vid.release()\n",
    "# Destroy all the windows\n",
    "cv2.destroyAllWindows()\n"
   ]
  },
  {
   "cell_type": "code",
   "execution_count": 1,
   "id": "f9b67bd0",
   "metadata": {},
   "outputs": [
    {
     "ename": "SyntaxError",
     "evalue": "invalid syntax (<ipython-input-1-60c5eae0135f>, line 1)",
     "output_type": "error",
     "traceback": [
      "\u001b[0;36m  File \u001b[0;32m\"<ipython-input-1-60c5eae0135f>\"\u001b[0;36m, line \u001b[0;32m1\u001b[0m\n\u001b[0;31m    pip3 install opencv-contrib-python\u001b[0m\n\u001b[0m         ^\u001b[0m\n\u001b[0;31mSyntaxError\u001b[0m\u001b[0;31m:\u001b[0m invalid syntax\n"
     ]
    }
   ],
   "source": [
    "pip3 install opencv-contrib-python"
   ]
  },
  {
   "cell_type": "code",
   "execution_count": 3,
   "id": "bd1721d3",
   "metadata": {},
   "outputs": [
    {
     "ename": "IndentationError",
     "evalue": "expected an indented block (<ipython-input-3-e104f9be7c12>, line 8)",
     "output_type": "error",
     "traceback": [
      "\u001b[0;36m  File \u001b[0;32m\"<ipython-input-3-e104f9be7c12>\"\u001b[0;36m, line \u001b[0;32m8\u001b[0m\n\u001b[0;31m    def cv2pil(imgCV):\u001b[0m\n\u001b[0m    ^\u001b[0m\n\u001b[0;31mIndentationError\u001b[0m\u001b[0;31m:\u001b[0m expected an indented block\n"
     ]
    }
   ],
   "source": [
    "import numpy as np\n",
    "import cv2\n",
    "from PIL import Image, ImageDraw, ImageFont\n",
    "\n",
    "def pil2cv(imgPIL):\n",
    "    #The ones listed above\n",
    "\n",
    "def cv2pil(imgCV):\n",
    "    #The ones listed above\n",
    "\n",
    "def cv2_putText_1(img, text, org, fontFace, fontScale, color):\n",
    "    #The ones listed above\n",
    "\n",
    "def main():\n",
    "    img = np.full((200,400,3), (160,160,160), dtype=np.uint8)\n",
    "\n",
    "    #Ordinarily cv2.putText()Draw text with\n",
    "    text = \"OpenCV\"\n",
    "    x, y = 50, 100\n",
    "    fontCV = cv2.FONT_HERSHEY_SIMPLEX\n",
    "    fontScale = 1\n",
    "    colorBGR = (255,0,0)\n",
    "    thickness = 1\n",
    "\n",
    "    cv2.putText(img = img,\n",
    "                text = text,\n",
    "                org = (x,y),\n",
    "                fontFace = fontCV,\n",
    "                fontScale = fontScale,\n",
    "                color = colorBGR,\n",
    "                thickness = thickness)\n",
    "    \"\"\"\n",
    "I'll add it here later\n",
    "    \"\"\"\n",
    "\n",
    "    #Draw Japanese text with your own function\n",
    "    text = \"Japanese too\\n possible\"\n",
    "    x, y = 200,100\n",
    "    fontPIL = \"Dflgs9.TTC\" #DF Reiga Song\n",
    "    size = 40\n",
    "    colorBGR = (255,0,0) # cv2.putText()As with, defined in the order of BGR\n",
    "    \n",
    "    img = cv2_putText_1(img = img,\n",
    "                        text = text,\n",
    "                        org = (x,y),\n",
    "                        fontFace = fontPIL,\n",
    "                        fontScale = size,\n",
    "                        color = colorBGR)\n",
    "\n",
    "    cv2.imshow(\"cv2_japanese_test\", img)\n",
    "    cv2.waitKey(0)\n",
    "    cv2.destroyAllWindows()\n",
    "\n",
    "if __name__ == \"__main__\":\n",
    "    main()"
   ]
  },
  {
   "cell_type": "code",
   "execution_count": 2,
   "id": "f4e55197",
   "metadata": {},
   "outputs": [
    {
     "data": {
      "text/plain": [
       "True"
      ]
     },
     "execution_count": 2,
     "metadata": {},
     "output_type": "execute_result"
    }
   ],
   "source": [
    "cap = cv2.VideoCapture(0)\n",
    "cap.set(cv2.CAP_PROP_FPS, 30)"
   ]
  },
  {
   "cell_type": "code",
   "execution_count": null,
   "id": "cd3ff1b2",
   "metadata": {},
   "outputs": [],
   "source": []
  }
 ],
 "metadata": {
  "kernelspec": {
   "display_name": "Python 3",
   "language": "python",
   "name": "python3"
  },
  "language_info": {
   "codemirror_mode": {
    "name": "ipython",
    "version": 3
   },
   "file_extension": ".py",
   "mimetype": "text/x-python",
   "name": "python",
   "nbconvert_exporter": "python",
   "pygments_lexer": "ipython3",
   "version": "3.8.8"
  }
 },
 "nbformat": 4,
 "nbformat_minor": 5
}
